{
 "cells": [
  {
   "cell_type": "code",
   "execution_count": 1,
   "metadata": {},
   "outputs": [],
   "source": [
    "import numpy as np\n",
    "from scipy.integrate import RK45,solve_ivp\n",
    "from ODE_potentials import VanDerPolePotential,LotkiVolterraPotential\n",
    "from ODE_samplers import MALA_ODE,ULA_ODE,grad_ascent_ODE,run_eval_test,set_function\n",
    "from multiprocessing import Pool\n",
    "import multiprocessing\n",
    "\n",
    "from baselines import construct_ESVM_kernel\n",
    "from optimize import optimize_parallel_new\n",
    "from utils import *"
   ]
  },
  {
   "cell_type": "markdown",
   "metadata": {},
   "source": [
    "Parameters for van-der-Pole and Lotki-Volterra examples: "
   ]
  },
  {
   "cell_type": "code",
   "execution_count": 2,
   "metadata": {},
   "outputs": [],
   "source": [
    "typ = 'LV' #'LV' for Lotki-Volterra, 'VdP' for Van-der-Pole\n",
    "method = {\"sampler\":\"MALA\"} #switch between ULA and MALA\n",
    "f_type = \"posterior_mean\"\n",
    "\n",
    "if typ == 'VdP':\n",
    "    #true parameter value\n",
    "    theta_star = 1.0\n",
    "    #initial coordiante and speed\n",
    "    y0 = np.array([0.0,2.0],dtype=float)\n",
    "    #error of measurements\n",
    "    sigma = 0.5\n",
    "    #prior variance\n",
    "    sigma_prior = 0.5\n",
    "elif typ == 'LV':\n",
    "    theta_star = np.array([0.6,0.025,0.8,0.025],dtype = float)\n",
    "    #initial number of victims and predators\n",
    "    y0 = np.array([30.0,4.0],dtype=float)\n",
    "    #setting prior parameters\n",
    "    sigma_prior = np.array([0.5,0.05,0.5,0.05],dtype = float)\n",
    "    mu_prior = np.array([1.0,0.05,1.0,0.05],dtype=float)\n",
    "    #measurements error\n",
    "    sigma = np.array([0.25,0.25])"
   ]
  },
  {
   "cell_type": "markdown",
   "metadata": {},
   "source": [
    "Timestaps"
   ]
  },
  {
   "cell_type": "code",
   "execution_count": 3,
   "metadata": {},
   "outputs": [],
   "source": [
    "#initial and last time moments\n",
    "t0 = 0\n",
    "t_bound = 10\n",
    "#moments of observations\n",
    "t_moments = np.arange(t_bound+1)"
   ]
  },
  {
   "cell_type": "markdown",
   "metadata": {},
   "source": [
    "Creating potentials"
   ]
  },
  {
   "cell_type": "code",
   "execution_count": 4,
   "metadata": {},
   "outputs": [
    {
     "name": "stdout",
     "output_type": "stream",
     "text": [
      "system solved\n",
      "[[ 37.52358801   5.44451059]\n",
      " [ 49.31015054   4.44056815]\n",
      " [ 68.02780239   7.49382876]\n",
      " [ 96.31994597  69.0224216 ]\n",
      " [ 33.96485552 119.57915384]\n",
      " [ 11.19476367  55.29111344]\n",
      " [  7.28510513  25.46629586]\n",
      " [  3.95843583  11.12542133]\n",
      " [ 12.06748946   3.71380176]\n",
      " [ 12.38341447   6.01556616]\n",
      " [ 18.28774199   3.71351383]]\n"
     ]
    }
   ],
   "source": [
    "if typ == 'VdP':\n",
    "    Cur_pot = VanDerPolePotential(sigma,sigma_prior,t_moments,theta_star,y0,t0,t_bound)\n",
    "elif typ == 'LV':\n",
    "    Cur_pot = LotkiVolterraPotential(sigma,mu_prior,sigma_prior,t_moments,theta_star,y0,t0,t_bound)"
   ]
  },
  {
   "cell_type": "markdown",
   "metadata": {},
   "source": [
    "Sampling (currently with MALA)"
   ]
  },
  {
   "cell_type": "code",
   "execution_count": 5,
   "metadata": {},
   "outputs": [],
   "source": [
    "r_seed = 666\n",
    "#burn-in period\n",
    "N_burn = 1*10**3\n",
    "#Train size\n",
    "N_train = 1*10**4\n",
    "#Test size\n",
    "N_test = 1*10**4\n",
    "#number of test trajectories\n",
    "n_traj_test = 100\n",
    "if typ == 'VdP':\n",
    "    #dimension\n",
    "    d = 1\n",
    "    #step size\n",
    "    step = 1e-3\n",
    "elif typ == 'LV':\n",
    "    #dimension\n",
    "    d = 4\n",
    "    #step size\n",
    "    step = 5e-6"
   ]
  },
  {
   "cell_type": "markdown",
   "metadata": {},
   "source": [
    "### Construct kernels and sample"
   ]
  },
  {
   "cell_type": "code",
   "execution_count": 6,
   "metadata": {},
   "outputs": [],
   "source": [
    "# Construct kernel\n",
    "W_train_spec = construct_ESVM_kernel(N_train)\n",
    "W_test_spec = construct_ESVM_kernel(N_test)"
   ]
  },
  {
   "cell_type": "code",
   "execution_count": 7,
   "metadata": {},
   "outputs": [],
   "source": [
    "if typ == 'VdP':\n",
    "    params_prior = {\"sigma\":sigma_prior}\n",
    "elif typ == 'LV':\n",
    "    params_prior = {\"mu\":mu_prior,\"sigma\":sigma_prior}"
   ]
  },
  {
   "cell_type": "markdown",
   "metadata": {},
   "source": [
    "### Compute starting point (maximum likelihood)"
   ]
  },
  {
   "cell_type": "code",
   "execution_count": 8,
   "metadata": {},
   "outputs": [
    {
     "name": "stdout",
     "output_type": "stream",
     "text": [
      "mle for parameters:  [0.6467501  0.02390763 0.81164578 0.02461639]\n"
     ]
    }
   ],
   "source": [
    "N_steps_ascent = 5000\n",
    "traj,traj_grad = grad_ascent_ODE(1453,Cur_pot,step,params_prior,N_steps_ascent,d,typ)\n",
    "theta_mle = traj[-1,:]\n",
    "print(\"mle for parameters: \",theta_mle)\n",
    "Cur_pot.set_mle(theta_mle)"
   ]
  },
  {
   "cell_type": "code",
   "execution_count": 9,
   "metadata": {},
   "outputs": [
    {
     "name": "stdout",
     "output_type": "stream",
     "text": [
      "[[-1.13833387e-11 -6.91553481e-11  3.84270393e-12 -3.46105367e-10]\n",
      " [ 9.29567534e-12  3.31183969e-11  1.35491618e-12  2.18646434e-10]\n",
      " [ 4.47641924e-13  1.31961997e-10  1.01296749e-11  6.18278762e-11]\n",
      " [ 6.33093578e-12 -1.27837296e-10 -1.34767753e-11  1.20023103e-10]\n",
      " [-2.34612330e-12  1.04876108e-11 -1.23145938e-12 -3.29087868e-11]\n",
      " [-9.93427562e-12 -1.34409817e-10 -1.98419059e-12 -3.41676909e-10]\n",
      " [ 5.39390754e-12 -6.26467767e-11 -4.74065232e-12  7.93747290e-11]\n",
      " [-4.73221462e-12 -1.19300125e-11  4.52571314e-12 -1.61884728e-10]\n",
      " [ 3.11306536e-12  5.95825611e-11  4.97957231e-12  7.58664243e-11]\n",
      " [-4.14202006e-12  7.47473194e-11  9.82458559e-12 -8.72883987e-11]]\n"
     ]
    }
   ],
   "source": [
    "print(traj_grad[-10:,:])"
   ]
  },
  {
   "cell_type": "markdown",
   "metadata": {},
   "source": [
    "### Setting function "
   ]
  },
  {
   "cell_type": "code",
   "execution_count": 10,
   "metadata": {},
   "outputs": [
    {
     "name": "stdout",
     "output_type": "stream",
     "text": [
      "n_accepted =  7982\n",
      "(1, 10000, 4)\n"
     ]
    }
   ],
   "source": [
    "if f_type == \"posterior_mean\":\n",
    "    inds_arr = np.array([0,1,2,3])\n",
    "    params = None \n",
    "    t_moments = None\n",
    "    if method[\"sampler\"] == \"ULA\":\n",
    "        traj,traj_grad = ULA_ODE(r_seed,Cur_pot, step, params_prior, N_burn, N_train, d, typ)\n",
    "    elif method[\"sampler\"] == \"MALA\":\n",
    "        traj,traj_grad,n_accepted = MALA_ODE(r_seed,Cur_pot, step, params_prior, N_burn, N_train, d, typ)\n",
    "        print(\"n_accepted = \",n_accepted)\n",
    "    traj = traj[np.newaxis,:]\n",
    "    traj_grad = traj_grad[np.newaxis,:]\n",
    "    f_vals = set_function(f_type,traj,inds_arr,params)\n",
    "    print(f_vals.shape)\n",
    "elif f_type == \"evidence\":\n",
    "    #time moments for numeric integrations\n",
    "    n_points = 10.0\n",
    "    f_vals = np.zeros((1+int(n_points),N_train,1),dtype = float)\n",
    "    traj = np.zeros((1+int(n_points),N_train,d),dtype = float)\n",
    "    traj_grad = np.zeros((1+int(n_points),N_train,d),dtype = float)\n",
    "    t_moments = (np.arange(n_points+1)/n_points)**5\n",
    "    print(t_moments)\n",
    "    for i in range(len(t_moments)):\n",
    "        if method[\"sampler\"] == \"ULA\":\n",
    "            f_vals[i],traj[i],traj_grad[i] = ULA_ODE(r_seed+i,Cur_pot, step, params_prior, N_burn, N_train, d, typ,t_moments[i])\n",
    "        elif method[\"sampler\"] == \"MALA\":\n",
    "            f_vals[i],traj[i],traj_grad[i],n_accepted = MALA_ODE(r_seed+i,Cur_pot,step,params_prior,N_burn,N_train,d,typ,t_moments[i])\n",
    "            print(\"n_accepted = \",n_accepted)           "
   ]
  },
  {
   "cell_type": "markdown",
   "metadata": {},
   "source": [
    "### Training coefficients for EVM, ESVM and LS"
   ]
  },
  {
   "cell_type": "code",
   "execution_count": 11,
   "metadata": {},
   "outputs": [],
   "source": [
    "n_restarts = 2 # Number of restarts during optimization\n",
    "sigma_optim = 1.0 # Deviation of starting points\n",
    "tol = 1e-6 # Tolerance (for the norm of gradient)\n",
    "degree = 1 #degree of polynomails\n",
    "inds_arr = np.array([0,1,2,3])"
   ]
  },
  {
   "cell_type": "code",
   "execution_count": 12,
   "metadata": {},
   "outputs": [
    {
     "name": "stdout",
     "output_type": "stream",
     "text": [
      "1 degree optimization terminated succesfully\n",
      "1 degree optimization terminated succesfully\n",
      "1 degree optimization terminated succesfully\n",
      "jacobian at termination: \n",
      "jacobian at termination: \n",
      "jacobian at termination: \n",
      "1 degree optimization terminated succesfully\n",
      "[ 1.24948112e-15 -3.91406079e-15  4.91855781e-16  2.36918640e-14]\n",
      "jacobian at termination: \n",
      "[ 7.03765127e-10  3.30069531e-10  1.61706881e-09 -2.06894187e-08]\n",
      "[-6.64967964e-16 -4.51373001e-16  1.90870588e-16 -1.62178501e-14]\n",
      "1 degree optimization terminated succesfully\n",
      "[ 2.80331314e-15  2.93098879e-14 -3.33066907e-16 -6.03961325e-14]\n",
      "jacobian at termination: \n",
      "1 degree optimization terminated succesfully\n",
      "1 degree optimization terminated succesfully\n",
      "[-6.82397433e-16  2.27118832e-16  2.32007077e-16 -1.74091942e-14]\n",
      "jacobian at termination: \n",
      "jacobian at termination: \n",
      "[ 1.17683641e-14  7.72715225e-14 -6.43929354e-15  7.72715225e-14]\n",
      "[-6.24500451e-16  1.88737914e-15 -2.32452946e-16 -2.31759056e-14]\n",
      "1 degree optimization terminated succesfully\n",
      "jacobian at termination: \n",
      "[-5.31692745e-16 -1.22124533e-15  1.28369537e-16 -1.83464355e-14]\n",
      "1 degree optimization terminated succesfully\n",
      "jacobian at termination: \n",
      "[ 2.18770925e-10 -1.71276244e-08 -4.80107193e-10  1.49020582e-08]\n",
      "1 degree optimization terminated succesfully\n",
      "jacobian at termination: \n",
      "[ 4.31118352e-11  6.76410235e-10 -1.57927154e-11 -1.14738619e-09]\n",
      "1 degree optimization terminated succesfully\n",
      "1 degree optimization terminated succesfully\n",
      "jacobian at termination: \n",
      "jacobian at termination: \n",
      "[ 3.88365117e-11  3.36125295e-09 -3.32240153e-11  1.08274241e-08]\n",
      "[-5.16591845e-11  1.18922410e-10  1.19281994e-10  9.96549277e-10]\n",
      "2 degree optimization terminated succesfully\n",
      "2 degree optimization terminated succesfully\n",
      "2 degree optimization terminated succesfully\n",
      "Jacobian matrix at termination: \n",
      "2 degree optimization terminated succesfully\n",
      "Jacobian matrix at termination: \n",
      "Jacobian matrix at termination: \n",
      "[-8.41596506e-15  1.63396954e-14  2.99421825e-15 -2.23553216e-13\n",
      " -1.03693411e-14  7.28111274e-15 -5.31504110e-15 -1.42364823e-13\n",
      "  7.28111274e-15 -1.16698070e-15  9.15500965e-15 -3.83348906e-16\n",
      " -5.31504110e-15  9.15500965e-15  3.86130119e-15 -1.81037581e-13\n",
      " -1.42364823e-13 -3.83348906e-16 -1.81037581e-13 -4.08251617e-15]Jacobian matrix at termination: \n",
      "[ 8.59748733e-10  6.29350585e-10 -2.06873079e-10  2.14044269e-08\n",
      "  1.09817444e-09  4.53312846e-10  5.69022928e-10  1.38068475e-08\n",
      "  4.53312846e-10  5.63899429e-11  6.08622560e-10  3.75952844e-10\n",
      "  5.69022928e-10  6.08622560e-10 -3.39283205e-10  1.75078903e-08\n",
      "  1.38068475e-08  3.75952844e-10  1.75078903e-08  1.16525243e-09]\n",
      "[-9.08631606e-15  1.51193203e-14  3.13163770e-15 -2.41729595e-13\n",
      " -1.12139361e-14  6.44043441e-15 -5.77936823e-15 -1.54006570e-13\n",
      "  6.44043441e-15 -1.28403758e-15  8.02424267e-15 -7.15027115e-16\n",
      " -5.77936823e-15  8.02424267e-15  4.05147955e-15 -1.95744422e-13\n",
      " -1.54006570e-13 -7.15027115e-16 -1.95744422e-13 -4.76075505e-15]\n",
      "\n",
      "[1.28785871e-14 5.68656233e-13 2.02060590e-14 4.33875158e-13\n",
      " 6.29825081e-15 3.02640046e-13 1.55914393e-14 2.66231837e-13\n",
      " 3.02640046e-13 2.84344992e-14 4.30941327e-13 2.41605846e-14\n",
      " 1.55914393e-14 4.30941327e-13 2.97504243e-14 2.56977728e-13\n",
      " 2.66231837e-13 2.41605846e-14 2.56977728e-13 1.32146738e-14]2 degree optimization terminated succesfully\n",
      "Jacobian matrix at termination: \n",
      "\n",
      "[ 3.51225286e-08  2.66009001e-08 -9.21124843e-09  8.78213910e-07\n",
      "  4.36124726e-08  1.83513534e-08  2.51025293e-08  5.66605994e-07\n",
      "  1.83513534e-08  1.70506573e-09  2.44374875e-08  2.24826049e-08\n",
      "  2.51025293e-08  2.44374875e-08 -1.52816778e-08  7.18839487e-07\n",
      "  5.66605994e-07  2.24826049e-08  7.18839487e-07  4.41912932e-08]\n",
      "2 degree optimization terminated succesfully\n",
      "Jacobian matrix at termination: \n",
      "[-6.15626939e-15  2.51747373e-14  2.50108853e-15 -1.48526811e-13\n",
      " -7.74386944e-15  1.23488245e-14 -3.76504286e-15 -9.36350929e-14\n",
      "  1.23488245e-14 -3.74379662e-16  1.82497171e-14  6.88346048e-16\n",
      " -3.76504286e-15  1.82497171e-14  3.28437370e-15 -1.19433749e-13\n",
      " -9.36350929e-14  6.88346048e-16 -1.19433749e-13 -1.99371583e-15]\n",
      "2 degree optimization terminated succesfully\n",
      "Jacobian matrix at termination: \n",
      "[-3.92666620e-10 -2.97828151e-10  8.69821298e-11 -9.79819997e-09\n",
      " -5.23103996e-10 -2.06006149e-10 -2.54364072e-10 -6.31803087e-09\n",
      " -2.06006149e-10 -2.37586921e-11 -2.70532969e-10 -2.68847312e-10\n",
      " -2.54364072e-10 -2.70532969e-10  1.62836906e-10 -8.02135838e-09\n",
      " -6.31803087e-09 -2.68847312e-10 -8.02135838e-09 -4.68510181e-10]\n",
      "2 degree optimization terminated succesfully\n",
      "Jacobian matrix at termination: \n",
      "[ 3.45002703e-10  2.64914569e-10 -1.39952022e-10  8.61388891e-09\n",
      "  4.05546672e-10  1.80085659e-10  2.59239064e-10  5.56152161e-09\n",
      "  1.80085659e-10 -3.52632152e-11  2.39157003e-10  2.01937387e-10\n",
      "  2.59239064e-10  2.39157003e-10 -1.25862093e-10  7.05132283e-09\n",
      "  5.56152161e-09  2.01937387e-10  7.05132283e-09  4.67080653e-10]\n",
      "2 degree optimization terminated succesfully\n",
      "Jacobian matrix at termination: \n",
      "2 degree optimization terminated succesfully\n",
      "[ 1.35999070e-08 -9.82102583e-07 -1.45987676e-08 -6.29224857e-07\n",
      "  1.96013338e-08 -6.20648433e-07  3.23506612e-09 -3.94062553e-07\n",
      " -6.20648433e-07 -4.87350773e-08 -8.17169493e-07 -3.90673242e-08\n",
      "  3.23506612e-09 -8.17169493e-07 -2.30254128e-08 -5.31324434e-07\n",
      " -3.94062553e-07 -3.90673242e-08 -5.31324434e-07 -2.81521719e-08]Jacobian matrix at termination: \n",
      "\n",
      "[ 1.35048582e-08 -9.74285161e-07 -1.44778762e-08 -6.24224081e-07\n",
      "  1.94373975e-08 -6.15707479e-07  3.20762711e-09 -3.90936280e-07\n",
      " -6.15707479e-07 -4.83996332e-08 -8.10665744e-07 -3.87790719e-08\n",
      "  3.20762711e-09 -8.10665744e-07 -2.28424592e-08 -5.27109146e-07\n",
      " -3.90936280e-07 -3.87790719e-08 -5.27109146e-07 -2.79437358e-08]\n",
      "2 degree optimization terminated succesfully\n",
      "Jacobian matrix at termination: \n",
      "[ 1.35517417e-08 -9.78083325e-07 -1.45363886e-08 -6.26657967e-07\n",
      "  1.95168378e-08 -6.18107020e-07  3.22018658e-09 -3.92457503e-07\n",
      " -6.18107020e-07 -4.85600581e-08 -8.13824736e-07 -3.89142708e-08\n",
      "  3.22018658e-09 -8.13824736e-07 -2.29310420e-08 -5.29160029e-07\n",
      " -3.92457503e-07 -3.89142708e-08 -5.29160029e-07 -2.80417058e-08]\n",
      "2 degree optimization terminated succesfully\n",
      "Jacobian matrix at termination: \n",
      "[ 1.35551509e-08 -9.78385175e-07 -1.45410775e-08 -6.26845970e-07\n",
      "  1.95234704e-08 -6.18297866e-07  3.22136685e-09 -3.92574945e-07\n",
      " -6.18297866e-07 -4.85714963e-08 -8.14075656e-07 -3.89251167e-08\n",
      "  3.22136685e-09 -8.14075656e-07 -2.29383694e-08 -5.29318549e-07\n",
      " -3.92574945e-07 -3.89251167e-08 -5.29318549e-07 -2.80495176e-08]\n"
     ]
    }
   ],
   "source": [
    "if f_type == \"posterior_mean\":\n",
    "    A_ESVM_k,A_EVM_k,A_LS_k = optimize_parallel_new(degree,inds_arr,f_vals,traj,traj_grad,W_train_spec,n_restarts,tol,sigma_optim)\n",
    "    A_ESVM_2,A_EVM_2,A_LS_2 = optimize_parallel_new(2,inds_arr,f_vals,traj,traj_grad,W_train_spec,n_restarts,tol,sigma_optim)\n",
    "elif f_type == \"evidence\":\n",
    "    A_ESVM_k = []\n",
    "    A_EVM_k = []\n",
    "    A_LS_k = []\n",
    "    A_ESVM_2 = []\n",
    "    A_EVM_2 = []\n",
    "    A_LS_2 = []\n",
    "    for i in range(len(t_moments)):\n",
    "        A_ESVM_k_cur,A_EVM_k_cur,A_LS_k_cur = optimize_parallel_new(degree,inds_arr,f_vals[np.newaxis,i],\\\n",
    "            traj[np.newaxis,i],traj_grad[np.newaxis,i],W_train_spec,n_restarts,tol,sigma_optim)\n",
    "        A_ESVM_2_cur,A_EVM_2_cur,A_LS_2_cur = optimize_parallel_new(2,inds_arr,f_vals[np.newaxis,i],\\\n",
    "            traj[np.newaxis,i],traj_grad[np.newaxis,i],W_train_spec,n_restarts,tol,sigma_optim)\n",
    "        A_ESVM_k.append(A_ESVM_k_cur)\n",
    "        A_EVM_k.append(A_EVM_k_cur)\n",
    "        A_LS_k.append(A_LS_k_cur)\n",
    "        A_ESVM_2.append(A_ESVM_2_cur)\n",
    "        A_EVM_2.append(A_EVM_2_cur)\n",
    "        A_LS_2.append(A_LS_2_cur)"
   ]
  },
  {
   "cell_type": "markdown",
   "metadata": {},
   "source": [
    "### Run test simulations"
   ]
  },
  {
   "cell_type": "code",
   "execution_count": 13,
   "metadata": {},
   "outputs": [],
   "source": [
    "# Create a dictionary, put respective matrices into it\n",
    "params = None\n",
    "if f_type == \"posterior_mean\":\n",
    "    CV_dict = {\"ESVM\":[A_ESVM_k,A_ESVM_2],\"ZV\":[A_EVM_k,A_EVM_2],\"LS\":[A_LS_k,A_LS_2]}\n",
    "elif f_type == \"evidence\":\n",
    "    CV_dict = [{\"ESVM\":[A_ESVM_k[i],A_ESVM_2[i]],\"ZV\":[A_EVM_k[i],A_EVM_2[i]],\"LS\":[A_LS_k[i],A_LS_2[i]]} for i in range(len(t_moments))]\n",
    "# Number of cores exploited for the computation of the independent trajectories\n",
    "# by deault, all available cores on the machine\n",
    "nbcores = multiprocessing.cpu_count()\n",
    "trav = Pool(nbcores)\n",
    "res = trav.starmap(run_eval_test, [(i,method,inds_arr,Cur_pot,W_test_spec,CV_dict,step,N_burn,N_test,d,params,f_type,params_prior,typ,t_moments) for i in range (n_traj_test)])\n",
    "trav.close()\n",
    "res_arr = np.asarray(res) # Saving results as np.array"
   ]
  },
  {
   "cell_type": "markdown",
   "metadata": {},
   "source": [
    "### Results"
   ]
  },
  {
   "cell_type": "code",
   "execution_count": 14,
   "metadata": {},
   "outputs": [
    {
     "name": "stdout",
     "output_type": "stream",
     "text": [
      "Estimators\n",
      "Vanilla MC [0.64015392 0.02425484 0.81814863 0.02519806]\n",
      "ESVM pol=1 [0.64105486 0.02407095 0.82202153 0.02519821]\n",
      "ESVM pol=2 [0.64316112 0.02423679 0.81939242 0.0250723 ]\n",
      "EVM pol=1 [0.64173953 0.02412456 0.8211498  0.02516254]\n",
      "EVM pol=2 [0.64315218 0.02423358 0.8194335  0.02507348]\n",
      "LS pol=1 [0.63726117 0.02395714 0.81541052 0.02498691]\n",
      "LS pol=2 [0.64098589 0.02415208 0.81667428 0.02498908]\n"
     ]
    }
   ],
   "source": [
    "print(\"Estimators\")\n",
    "print(\"Vanilla MC {}\".format(np.mean(res_arr[:,0,0,:],axis=0)))\n",
    "print(\"ESVM pol=1 {}\".format(np.mean(res_arr[:,0,1,:],axis=0)))\n",
    "print(\"ESVM pol=2 {}\".format(np.mean(res_arr[:,0,2,:],axis=0)))\n",
    "print(\"EVM pol=1 {}\".format(np.mean(res_arr[:,0,3,:],axis=0)))\n",
    "print(\"EVM pol=2 {}\".format(np.mean(res_arr[:,0,4,:],axis=0)))\n",
    "print(\"LS pol=1 {}\".format(np.mean(res_arr[:,0,5,:],axis=0)))\n",
    "print(\"LS pol=2 {}\".format(np.mean(res_arr[:,0,6,:],axis=0)))"
   ]
  },
  {
   "cell_type": "code",
   "execution_count": 15,
   "metadata": {},
   "outputs": [
    {
     "name": "stdout",
     "output_type": "stream",
     "text": [
      "Variances\n",
      "Vanilla MC [0.21907132 0.00077401 0.25632556 0.00061962]\n",
      "ZAV pol=1 [1.40909430e-02 8.13760347e-05 3.02440570e-02 5.53294225e-05]\n",
      "ZAV pol=2 [2.00339668e-04 1.56858872e-06 7.32304270e-04 1.16110067e-06]\n",
      "ZV pol=1 [3.09601617e-02 1.73057715e-04 4.93039985e-02 9.89038648e-05]\n",
      "ZV pol=2 [2.52258867e-04 2.95520901e-06 7.84880844e-04 1.29856495e-06]\n",
      "LS pol=1 [3.09069390e-01 6.63994936e-04 2.43637374e-01 2.14819339e-04]\n",
      "LS pol=2 [5.53185271e+00 8.00122828e-03 8.96121277e+00 8.41705585e-03]\n"
     ]
    }
   ],
   "source": [
    "print(\"Variances\")\n",
    "print(\"Vanilla MC {}\".format(np.mean(res_arr[:,1,0,:],axis=0)))\n",
    "print(\"ZAV pol=1 {}\".format(np.mean(res_arr[:,1,1,:],axis=0)))\n",
    "print(\"ZAV pol=2 {}\".format(np.mean(res_arr[:,1,2,:],axis=0)))\n",
    "print(\"ZV pol=1 {}\".format(np.mean(res_arr[:,1,3,:],axis=0)))\n",
    "print(\"ZV pol=2 {}\".format(np.mean(res_arr[:,1,4,:],axis=0)))\n",
    "print(\"LS pol=1 {}\".format(np.mean(res_arr[:,1,5,:],axis=0)))\n",
    "print(\"LS pol=2 {}\".format(np.mean(res_arr[:,1,6,:],axis=0)))"
   ]
  },
  {
   "cell_type": "code",
   "execution_count": 16,
   "metadata": {},
   "outputs": [],
   "source": [
    "#saving the results\n",
    "np.save(\"Results/10_07/ODE_LV_MALA_gamma_5e-6_bn_20_burn_1e-3_train_1e4_test_1e4_atol_-3_rtol_-3_traj_100_t_10_sigma_025_all.npy\",res_arr)"
   ]
  },
  {
   "cell_type": "code",
   "execution_count": null,
   "metadata": {},
   "outputs": [],
   "source": [
    "res_arr = np.load(\"Results/09_07/ODE_VdP_MALA_gamma_1e-3_bn_10_burn_100_train_1000_test_1000_atol_-5_rtol_-3_y0_2_traj_100_t_10_k_3.npy\")"
   ]
  },
  {
   "cell_type": "markdown",
   "metadata": {},
   "source": [
    "### Plotting the results"
   ]
  },
  {
   "cell_type": "code",
   "execution_count": 23,
   "metadata": {},
   "outputs": [],
   "source": [
    "var_ind = 3 # Index to plot\n",
    "title = \"\"\n",
    "labels = ['EVM','ESVM']\n",
    "#labels = ['Vanilla','EVM','ESVM']"
   ]
  },
  {
   "cell_type": "code",
   "execution_count": 24,
   "metadata": {},
   "outputs": [
    {
     "data": {
      "image/png": "[encoded data removed]",
      "text/plain": [
       "<Figure size 500x400 with 1 Axes>"
      ]
     },
     "metadata": {
      "needs_background": "light"
     },
     "output_type": "display_data"
    }
   ],
   "source": [
    "data = [res_arr[:,0,4,var_ind],res_arr[:,0,2,var_ind]] \n",
    "#data = [res_arr[:,0,0,var_ind],res_arr[:,0,3,var_ind],res_arr[:,0,1,var_ind]] \n",
    "boxplot_ind(data, title, labels)"
   ]
  },
  {
   "cell_type": "code",
   "execution_count": 26,
   "metadata": {},
   "outputs": [],
   "source": [
    "var_ind = 1 # Index to plot\n",
    "title = \"\"\n",
    "labels = ['Vanilla','EVM','ESVM']"
   ]
  },
  {
   "cell_type": "code",
   "execution_count": null,
   "metadata": {},
   "outputs": [],
   "source": [
    "data = [res_arr[:,0,0,var_ind],res_arr[:,0,4,var_ind],res_arr[:,0,2,var_ind]] \n",
    "boxplot_ind(data, title, labels)"
   ]
  },
  {
   "cell_type": "code",
   "execution_count": 28,
   "metadata": {},
   "outputs": [
    {
     "name": "stdout",
     "output_type": "stream",
     "text": [
      "average VRF for 1st order EVM: 4.655479086169268\n",
      "average VRF for 2nd order EVM: 351.53982654039254\n",
      "average VRF for 1st order ESVM: 10.04621818599417\n",
      "average VRF for 2nd order ESVM: 644.5088275173703\n"
     ]
    }
   ],
   "source": [
    "var_ind = 1\n",
    "vars_vanilla = res_arr[:,1,0,var_ind]\n",
    "vars_esvm_1st = res_arr[:,1,1,var_ind]\n",
    "vars_esvm_2nd = res_arr[:,1,2,var_ind]\n",
    "vars_evm_1st = res_arr[:,1,3,var_ind]\n",
    "vars_evm_2nd = res_arr[:,1,4,var_ind]\n",
    "print(\"average VRF for 1st order EVM:\",np.mean(vars_vanilla/vars_evm_1st))\n",
    "print(\"average VRF for 2nd order EVM:\",np.mean(vars_vanilla/vars_evm_2nd))\n",
    "print(\"average VRF for 1st order ESVM:\",np.mean(vars_vanilla/vars_esvm_1st))\n",
    "print(\"average VRF for 2nd order ESVM:\",np.mean(vars_vanilla/vars_esvm_2nd))"
   ]
  },
  {
   "cell_type": "code",
   "execution_count": null,
   "metadata": {},
   "outputs": [],
   "source": []
  }
 ],
 "metadata": {
  "kernelspec": {
   "display_name": "Python 3",
   "language": "python",
   "name": "python3"
  },
  "language_info": {
   "codemirror_mode": {
    "name": "ipython",
    "version": 3
   },
   "file_extension": ".py",
   "mimetype": "text/x-python",
   "name": "python",
   "nbconvert_exporter": "python",
   "pygments_lexer": "ipython3",
   "version": "3.6.7"
  }
 },
 "nbformat": 4,
 "nbformat_minor": 2
}
