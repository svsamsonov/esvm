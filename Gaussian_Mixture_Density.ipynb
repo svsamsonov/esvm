{
 "cells": [
  {
   "cell_type": "code",
   "execution_count": 1,
   "metadata": {},
   "outputs": [],
   "source": [
    "import numpy as np\n",
    "import scipy.stats as spstats\n",
    "from scipy import signal\n",
    "import pickle\n",
    "from multiprocessing import Pool\n",
    "import multiprocessing\n",
    "import scipy.sparse as sparse\n",
    "import seaborn as sns\n",
    "\n",
    "from potentials import GaussPotential,GaussMixture,GausMixtureIdent,GausMixtureSame,potentialRegression,BananaShape\n",
    "from baselines import GenerateSigma,construct_ESVM_kernel,set_function\n",
    "from optimize import Run_eval_test,optimize_parallel_new \n",
    "from samplers import MCMC_sampler,Generate_train\n",
    "from utils import *"
   ]
  },
  {
   "cell_type": "code",
   "execution_count": 154,
   "metadata": {},
   "outputs": [],
   "source": [
    "N_b = 1*10**4 # Burn in period\n",
    "N_train = 1*10**5 # Number of samples on which we optimize\n",
    "N_test = 1*10**5 # Number of samples\n",
    "step = 0.1 # Step size\n",
    "n_traj_train = 1\n",
    "n_traj_test = 100 # Number of independent MCMC trajectories for test\n",
    "f_type = \"2nd_moment\""
   ]
  },
  {
   "cell_type": "code",
   "execution_count": 155,
   "metadata": {},
   "outputs": [
    {
     "data": {
      "text/plain": [
       "'\\n%load_ext line_profiler\\n\\n%lprun -f construct_Eric_kernel construct_Eric_kernel(N_train)\\n'"
      ]
     },
     "execution_count": 155,
     "metadata": {},
     "output_type": "execute_result"
    }
   ],
   "source": [
    "\"\"\"\n",
    "%load_ext line_profiler\n",
    "\n",
    "%lprun -f construct_Eric_kernel construct_Eric_kernel(N_train)\n",
    "\"\"\""
   ]
  },
  {
   "cell_type": "markdown",
   "metadata": {},
   "source": [
    "The cell below is to certify the correctness of fft convolutions, add later to test.py"
   ]
  },
  {
   "cell_type": "code",
   "execution_count": 156,
   "metadata": {},
   "outputs": [
    {
     "data": {
      "text/plain": [
       "'\\n#csr matrix\\nW_train_sparse = construct_Eric_kernel_sparse(N_train)\\n#just one column\\nc_fft = construct_Eric_kernel(N_train)\\nprint(c_fft.shape)\\n#time test\\nimport time\\nx = np.random.randn(N_train)\\nprint(x.shape)\\nstart_time = time.time()\\nres_dense = PWP(x,W_train_sparse)\\nprint(\"csr time = \",time.time()-start_time)\\nstart_time = time.time()\\nres_fft = PWP_fast(x,c_fft)\\nprint(\"fft time = \",time.time()-start_time)\\nprint(\"error: \",np.linalg.norm(res_fft - res_dense)/np.linalg.norm(x))\\n'"
      ]
     },
     "execution_count": 156,
     "metadata": {},
     "output_type": "execute_result"
    }
   ],
   "source": [
    "\"\"\"\n",
    "#csr matrix\n",
    "W_train_sparse = construct_Eric_kernel_sparse(N_train)\n",
    "#just one column\n",
    "c_fft = construct_Eric_kernel(N_train)\n",
    "print(c_fft.shape)\n",
    "#time test\n",
    "import time\n",
    "x = np.random.randn(N_train)\n",
    "print(x.shape)\n",
    "start_time = time.time()\n",
    "res_dense = PWP(x,W_train_sparse)\n",
    "print(\"csr time = \",time.time()-start_time)\n",
    "start_time = time.time()\n",
    "res_fft = PWP_fast(x,c_fft)\n",
    "print(\"fft time = \",time.time()-start_time)\n",
    "print(\"error: \",np.linalg.norm(res_fft - res_dense)/np.linalg.norm(x))\n",
    "\"\"\""
   ]
  },
  {
   "cell_type": "code",
   "execution_count": 157,
   "metadata": {},
   "outputs": [],
   "source": [
    "method = {\"sampler\":\"RWM\",\"burn_type\":\"full\",\"main_type\":\"full\"} # Sampling method"
   ]
  },
  {
   "cell_type": "code",
   "execution_count": 158,
   "metadata": {},
   "outputs": [
    {
     "name": "stdout",
     "output_type": "stream",
     "text": [
      "[1.94283271 0.1       ]\n",
      "ncores =  12\n",
      "accepted =  63968\n"
     ]
    }
   ],
   "source": [
    "d = 2\n",
    "mu = 0.5*np.array([1.0,1.0],dtype = float)\n",
    "Sigma = GenerateSigma(d,rand_seed = 777,eps = 0.1) #covariation matrix \n",
    "p = 0.5\n",
    "W_train_spec = construct_ESVM_kernel(N_train)\n",
    "W_test_spec = construct_ESVM_kernel(N_test)\n",
    "Cur_pot = GausMixtureSame(Sigma,mu,p)\n",
    "#Cur_pot = GausMixtureIdent(mu,p)\n",
    "#sample for variance reduction\n",
    "seed = 777\n",
    "if method[\"sampler\"] == \"ULA\":\n",
    "    res = Generate_train(n_traj_train, method, Cur_pot, step, N_b, N_train, d)\n",
    "    res = np.asarray(res)\n",
    "    traj,traj_grad = res[:,0,:,:],res[:,1,:,:]\n",
    "else:\n",
    "    res = Generate_train(n_traj_train, method, Cur_pot, step, N_b, N_train, d)\n",
    "    traj = []\n",
    "    traj_grad = []\n",
    "    for i in range(len(res)):\n",
    "        traj.append(res[i][0])\n",
    "        traj_grad.append(res[i][1])\n",
    "        print(\"accepted = \",res[i][2])\n",
    "    traj = np.asarray(traj)\n",
    "    traj_grad = np.asarray(traj_grad)"
   ]
  },
  {
   "cell_type": "code",
   "execution_count": 159,
   "metadata": {},
   "outputs": [],
   "source": [
    "if (f_type == \"posterior_mean\" or f_type == \"2nd_moment\"):\n",
    "    inds_arr = np.array([0]) # Taking the second index (not intercept)\n",
    "    params = None\n",
    "else:\n",
    "    params = {\"X\":X_test,\"Y\":Y_test}\n",
    "    inds_arr = np.array([0])\n",
    "    \n",
    "f_vals = set_function(f_type,traj,inds_arr,params)"
   ]
  },
  {
   "cell_type": "code",
   "execution_count": 160,
   "metadata": {},
   "outputs": [],
   "source": [
    "n_restarts = 2 # Number of restarts during optimization\n",
    "sigma = 1 # Deviation of starting points\n",
    "tol = 1e-5 # Tolerance (for the norm of gradient)"
   ]
  },
  {
   "cell_type": "code",
   "execution_count": 161,
   "metadata": {},
   "outputs": [
    {
     "name": "stdout",
     "output_type": "stream",
     "text": [
      "1 degree optimization terminated succesfully\n",
      "jacobian at termination: \n",
      "[4.70402284e-09 4.10491766e-09]\n",
      "1 degree optimization terminated succesfully\n",
      "jacobian at termination: \n",
      "[5.01085871e-09 4.37628171e-09]\n",
      "1 degree optimization terminated succesfully\n",
      "jacobian at termination: \n",
      "[7.50796403e-14 6.60777033e-14]\n",
      "2 degree optimization terminated succesfully\n",
      "Jacobian matrix at termination: \n",
      "[-1.72033191e-08  6.73466084e-08 -1.49790497e-07 -4.17610194e-08\n",
      " -4.17610194e-08  4.81969962e-08]\n",
      "2 degree optimization terminated succesfully\n",
      "Jacobian matrix at termination: \n",
      "[-1.20859590e-08  7.11915735e-08 -1.68360701e-07 -4.66620610e-08\n",
      " -4.66620610e-08  5.38438519e-08]\n",
      "2 degree optimization terminated succesfully\n",
      "Jacobian matrix at termination: \n",
      "[-4.25821877e-08 -4.02423708e-08  2.22737015e-08 -2.51979157e-08\n",
      " -2.51979157e-08 -9.92205704e-08]\n"
     ]
    }
   ],
   "source": [
    "A_ESVM_1,A_EVM_1,A_LS_1 = optimize_parallel_new(1,inds_arr,f_vals,traj,traj_grad,W_train_spec,n_restarts,tol,sigma)\n",
    "A_ESVM_2,A_EVM_2,A_LS_2 = optimize_parallel_new(2,inds_arr,f_vals,traj,traj_grad,W_train_spec,n_restarts,tol,sigma)"
   ]
  },
  {
   "cell_type": "markdown",
   "metadata": {},
   "source": [
    "## Coefficients for control variates"
   ]
  },
  {
   "cell_type": "code",
   "execution_count": 162,
   "metadata": {},
   "outputs": [
    {
     "name": "stdout",
     "output_type": "stream",
     "text": [
      "Coefficients for ESVM\n",
      "[[0.09661154 0.07004811]]\n",
      "Coefficients for EVM\n",
      "[[-0.01838116  0.0197842 ]]\n",
      "Coefficients for LS\n",
      "[[-0.00894367  0.01567669]]\n"
     ]
    }
   ],
   "source": [
    "print(\"Coefficients for ESVM\")\n",
    "print(A_ESVM_1)\n",
    "print(\"Coefficients for EVM\")\n",
    "print(A_EVM_1)\n",
    "print(\"Coefficients for LS\")\n",
    "print(A_LS_1)"
   ]
  },
  {
   "cell_type": "code",
   "execution_count": 163,
   "metadata": {},
   "outputs": [
    {
     "name": "stdout",
     "output_type": "stream",
     "text": [
      "Coefficients for ESVM\n",
      "[[ 0.02579134  0.0156198   0.57837174 -0.25267535 -0.25267535  0.06515261]]\n",
      "Coefficients for EVM\n",
      "[[ 0.00677795 -0.00147025  0.47028373 -0.26616245 -0.26616245  0.18031971]]\n",
      "Coefficients for LS\n",
      "[[ 0.01616773 -0.00557214  0.47497717 -0.26733908 -0.26733908  0.18403484]]\n"
     ]
    }
   ],
   "source": [
    "print(\"Coefficients for ESVM\")\n",
    "print(A_ESVM_2)\n",
    "print(\"Coefficients for EVM\")\n",
    "print(A_EVM_2)\n",
    "print(\"Coefficients for LS\")\n",
    "print(A_LS_2)"
   ]
  },
  {
   "cell_type": "markdown",
   "metadata": {},
   "source": [
    "### Test "
   ]
  },
  {
   "cell_type": "code",
   "execution_count": 164,
   "metadata": {},
   "outputs": [],
   "source": [
    "# Create a dictionary, put respective matrices into it\n",
    "CV_dict = {\"ZAV\":[A_ESVM_1,A_ESVM_2],\"ZV\":[A_EVM_1,A_EVM_2],\"LS\":[A_LS_1,A_LS_2]}\n",
    "# Number of cores exploited for the computation of the independent trajectories\n",
    "# by deault, all available cores on the machine\n",
    "nbcores = multiprocessing.cpu_count()\n",
    "trav = Pool(nbcores)\n",
    "res = trav.starmap(Run_eval_test, [(i,method,inds_arr,Cur_pot,W_test_spec,CV_dict,step,N_b,N_test,d,params,f_type) for i in range (n_traj_test)])\n",
    "trav.close()\n",
    "res_arr = np.asarray(res) # Saving results as np.array"
   ]
  },
  {
   "cell_type": "markdown",
   "metadata": {},
   "source": [
    "### Results"
   ]
  },
  {
   "cell_type": "code",
   "execution_count": 165,
   "metadata": {},
   "outputs": [
    {
     "name": "stdout",
     "output_type": "stream",
     "text": [
      "Estimators\n",
      "Vanilla MC [1.51773108]\n",
      "ESVM pol=1 [1.5179883]\n",
      "ESVM pol=2 [1.5156303]\n",
      "EVM pol=1 [1.51770848]\n",
      "EVM pol=2 [1.51645012]\n",
      "LS pol=1 [1.51770848]\n",
      "LS pol=2 [1.51645012]\n"
     ]
    }
   ],
   "source": [
    "print(\"Estimators\")\n",
    "print(\"Vanilla MC {}\".format(np.mean(res_arr[:,0,0,:],axis=0)))\n",
    "print(\"ESVM pol=1 {}\".format(np.mean(res_arr[:,0,1,:],axis=0)))\n",
    "print(\"ESVM pol=2 {}\".format(np.mean(res_arr[:,0,2,:],axis=0)))\n",
    "print(\"EVM pol=1 {}\".format(np.mean(res_arr[:,0,3,:],axis=0)))\n",
    "print(\"EVM pol=2 {}\".format(np.mean(res_arr[:,0,4,:],axis=0)))\n",
    "print(\"LS pol=1 {}\".format(np.mean(res_arr[:,0,3,:],axis=0)))\n",
    "print(\"LS pol=2 {}\".format(np.mean(res_arr[:,0,4,:],axis=0)))"
   ]
  },
  {
   "cell_type": "code",
   "execution_count": 166,
   "metadata": {},
   "outputs": [
    {
     "name": "stdout",
     "output_type": "stream",
     "text": [
      "Variances\n",
      "Vanilla MC [142.18426895]\n",
      "ZAV pol=1 [142.93294145]\n",
      "ZAV pol=2 [9.31494211]\n",
      "ZV pol=1 [142.1998555]\n",
      "ZV pol=2 [15.29852943]\n",
      "LS pol=1 [142.19329035]\n",
      "LS pol=2 [15.22582128]\n"
     ]
    }
   ],
   "source": [
    "print(\"Variances\")\n",
    "print(\"Vanilla MC {}\".format(np.mean(res_arr[:,1,0,:],axis=0)))\n",
    "print(\"ZAV pol=1 {}\".format(np.mean(res_arr[:,1,1,:],axis=0)))\n",
    "print(\"ZAV pol=2 {}\".format(np.mean(res_arr[:,1,2,:],axis=0)))\n",
    "print(\"ZV pol=1 {}\".format(np.mean(res_arr[:,1,3,:],axis=0)))\n",
    "print(\"ZV pol=2 {}\".format(np.mean(res_arr[:,1,4,:],axis=0)))\n",
    "print(\"LS pol=1 {}\".format(np.mean(res_arr[:,1,5,:],axis=0)))\n",
    "print(\"LS pol=2 {}\".format(np.mean(res_arr[:,1,6,:],axis=0)))"
   ]
  },
  {
   "cell_type": "code",
   "execution_count": 47,
   "metadata": {},
   "outputs": [
    {
     "ename": "NameError",
     "evalue": "name 'res_arr' is not defined",
     "output_type": "error",
     "traceback": [
      "\u001b[0;31m---------------------------------------------------------------------------\u001b[0m",
      "\u001b[0;31mNameError\u001b[0m                                 Traceback (most recent call last)",
      "\u001b[0;32m<ipython-input-47-4d87f5bf2d18>\u001b[0m in \u001b[0;36m<module>\u001b[0;34m\u001b[0m\n\u001b[0;32m----> 1\u001b[0;31m \u001b[0mnp\u001b[0m\u001b[0;34m.\u001b[0m\u001b[0msave\u001b[0m\u001b[0;34m(\u001b[0m\u001b[0;34m\"Results/05_07/GMM_MALA_bn_50_traj_1_test_traj_100_gamma_1e0_train_1e5_test_1e5.npy\"\u001b[0m\u001b[0;34m,\u001b[0m\u001b[0mres_arr\u001b[0m\u001b[0;34m)\u001b[0m\u001b[0;34m\u001b[0m\u001b[0;34m\u001b[0m\u001b[0m\n\u001b[0m",
      "\u001b[0;31mNameError\u001b[0m: name 'res_arr' is not defined"
     ]
    }
   ],
   "source": [
    "np.save(\"Results/05_07/GMM_MALA_bn_50_traj_1_test_traj_100_gamma_1e0_train_1e5_test_1e5.npy\",res_arr)"
   ]
  },
  {
   "cell_type": "markdown",
   "metadata": {},
   "source": [
    "### Plot results"
   ]
  },
  {
   "cell_type": "code",
   "execution_count": 60,
   "metadata": {},
   "outputs": [],
   "source": [
    "results = np.load(\"Results/04_07/GMM_RWM_bn_50_traj_1_test_traj_100_gamma_1e-1_train_1e5_test_1e5.npy\")"
   ]
  },
  {
   "cell_type": "code",
   "execution_count": 49,
   "metadata": {},
   "outputs": [],
   "source": [
    "var_ind = 0 #Index to plot\n",
    "title = \"\"\n",
    "labels = ['Vanilla\\n ULA', 'ULA \\nwith EVM','ULA\\nwith ESVM']"
   ]
  },
  {
   "cell_type": "code",
   "execution_count": 20,
   "metadata": {},
   "outputs": [
    {
     "data": {
      "image/png": "[encoded data removed]",
      "text/plain": [
       "<Figure size 500x400 with 1 Axes>"
      ]
     },
     "metadata": {
      "needs_background": "light"
     },
     "output_type": "display_data"
    }
   ],
   "source": [
    "# Box plot\n",
    "data = [results[:,0,0,var_ind]-1.25,results[:,0,4,var_ind]-1.25,results[:,0,2,var_ind]-1.25] \n",
    "boxplot_ind(data, title, labels)"
   ]
  },
  {
   "cell_type": "code",
   "execution_count": 16,
   "metadata": {},
   "outputs": [],
   "source": [
    "var_ind = 0 #Index to plot\n",
    "title = \"\"\n",
    "labels = ['ULA \\nwith EVM','ULA\\nwith ESVM']"
   ]
  },
  {
   "cell_type": "code",
   "execution_count": 17,
   "metadata": {},
   "outputs": [
    {
     "data": {
      "image/png": "[encoded data removed]",
      "text/plain": [
       "<Figure size 500x400 with 1 Axes>"
      ]
     },
     "metadata": {
      "needs_background": "light"
     },
     "output_type": "display_data"
    }
   ],
   "source": [
    "data = [results[:,0,4,var_ind]-1.25,results[:,0,2,var_ind]-1.25] \n",
    "boxplot_ind(data, title, labels)"
   ]
  },
  {
   "cell_type": "code",
   "execution_count": 61,
   "metadata": {},
   "outputs": [
    {
     "name": "stdout",
     "output_type": "stream",
     "text": [
      "average VRF for 1st order EVM: 14.307776246978026\n",
      "average VRF for 2nd order EVM: 14.305603153911024\n",
      "average VRF for 1st order ESVM: 22.63740498912407\n",
      "average VRF for 2nd order ESVM: 22.232365460220414\n"
     ]
    }
   ],
   "source": [
    "vars_vanilla = results[:,1,0,:]\n",
    "vars_esvm_1st = results[:,1,1,:]\n",
    "vars_esvm_2nd = results[:,1,2,:]\n",
    "vars_evm_1st = results[:,1,3,:]\n",
    "vars_evm_2nd = results[:,1,4,:]\n",
    "print(\"average VRF for 1st order EVM:\",np.mean(vars_vanilla)/np.mean(vars_evm_1st))\n",
    "print(\"average VRF for 2nd order EVM:\",np.mean(vars_vanilla)/np.mean(vars_evm_2nd))\n",
    "print(\"average VRF for 1st order ESVM:\",np.mean(vars_vanilla)/np.mean(vars_esvm_1st))\n",
    "print(\"average VRF for 2nd order ESVM:\",np.mean(vars_vanilla)/np.mean(vars_esvm_2nd))"
   ]
  },
  {
   "cell_type": "code",
   "execution_count": null,
   "metadata": {},
   "outputs": [],
   "source": []
  }
 ],
 "metadata": {
  "kernelspec": {
   "display_name": "Python 3",
   "language": "python",
   "name": "python3"
  },
  "language_info": {
   "codemirror_mode": {
    "name": "ipython",
    "version": 3
   },
   "file_extension": ".py",
   "mimetype": "text/x-python",
   "name": "python",
   "nbconvert_exporter": "python",
   "pygments_lexer": "ipython3",
   "version": "3.6.7"
  }
 },
 "nbformat": 4,
 "nbformat_minor": 2
}
