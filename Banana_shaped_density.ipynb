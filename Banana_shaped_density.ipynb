{
 "cells": [
  {
   "cell_type": "code",
   "execution_count": 1,
   "metadata": {},
   "outputs": [],
   "source": [
    "import numpy as np\n",
    "import scipy.stats as spstats\n",
    "from scipy import signal\n",
    "import pickle\n",
    "from multiprocessing import Pool\n",
    "import multiprocessing\n",
    "import scipy.sparse as sparse\n",
    "import seaborn as sns\n",
    "\n",
    "from potentials import GaussPotential,GaussMixture,GausMixtureIdent,GausMixtureSame,potentialRegression,BananaShape\n",
    "from baselines import GenerateSigma,construct_ESVM_kernel,set_function\n",
    "from optimize import Run_eval_test,optimize_parallel_new \n",
    "from samplers import MCMC_sampler,Generate_train\n",
    "from utils import *"
   ]
  },
  {
   "cell_type": "code",
   "execution_count": 2,
   "metadata": {},
   "outputs": [],
   "source": [
    "N_b = 1*10**5 # Burn in period\n",
    "N_train = 1*10**6 # Number of samples on which we optimize\n",
    "N_test = 1*10**6 # Number of samples\n",
    "step = 0.2 # Step size\n",
    "n_traj_train = 1\n",
    "n_traj_test = 100 # Number of independent MCMC trajectories for test\n",
    "f_type = \"posterior_mean\""
   ]
  },
  {
   "cell_type": "code",
   "execution_count": 3,
   "metadata": {},
   "outputs": [
    {
     "data": {
      "text/plain": [
       "'\\n%load_ext line_profiler\\n\\n%lprun -f construct_Eric_kernel construct_Eric_kernel(N_train)\\n'"
      ]
     },
     "execution_count": 3,
     "metadata": {},
     "output_type": "execute_result"
    }
   ],
   "source": [
    "\"\"\"\n",
    "%load_ext line_profiler\n",
    "\n",
    "%lprun -f construct_Eric_kernel construct_Eric_kernel(N_train)\n",
    "\"\"\""
   ]
  },
  {
   "cell_type": "markdown",
   "metadata": {},
   "source": [
    "The cell below is to certify the correctness of fft convolutions, add later to test.py"
   ]
  },
  {
   "cell_type": "code",
   "execution_count": 4,
   "metadata": {},
   "outputs": [
    {
     "data": {
      "text/plain": [
       "'\\n#csr matrix\\nW_train_sparse = construct_Eric_kernel_sparse(N_train)\\n#just one column\\nc_fft = construct_Eric_kernel(N_train)\\nprint(c_fft.shape)\\n#time test\\nimport time\\nx = np.random.randn(N_train)\\nprint(x.shape)\\nstart_time = time.time()\\nres_dense = PWP(x,W_train_sparse)\\nprint(\"csr time = \",time.time()-start_time)\\nstart_time = time.time()\\nres_fft = PWP_fast(x,c_fft)\\nprint(\"fft time = \",time.time()-start_time)\\nprint(\"error: \",np.linalg.norm(res_fft - res_dense)/np.linalg.norm(x))\\n'"
      ]
     },
     "execution_count": 4,
     "metadata": {},
     "output_type": "execute_result"
    }
   ],
   "source": [
    "\"\"\"\n",
    "#csr matrix\n",
    "W_train_sparse = construct_Eric_kernel_sparse(N_train)\n",
    "#just one column\n",
    "c_fft = construct_Eric_kernel(N_train)\n",
    "print(c_fft.shape)\n",
    "#time test\n",
    "import time\n",
    "x = np.random.randn(N_train)\n",
    "print(x.shape)\n",
    "start_time = time.time()\n",
    "res_dense = PWP(x,W_train_sparse)\n",
    "print(\"csr time = \",time.time()-start_time)\n",
    "start_time = time.time()\n",
    "res_fft = PWP_fast(x,c_fft)\n",
    "print(\"fft time = \",time.time()-start_time)\n",
    "print(\"error: \",np.linalg.norm(res_fft - res_dense)/np.linalg.norm(x))\n",
    "\"\"\""
   ]
  },
  {
   "cell_type": "code",
   "execution_count": 5,
   "metadata": {},
   "outputs": [],
   "source": [
    "method = {\"sampler\":\"MALA\",\"burn_type\":\"full\",\"main_type\":\"full\"} # Sampling method"
   ]
  },
  {
   "cell_type": "code",
   "execution_count": 6,
   "metadata": {},
   "outputs": [
    {
     "name": "stdout",
     "output_type": "stream",
     "text": [
      "ncores =  12\n",
      "accepted =  664287\n"
     ]
    }
   ],
   "source": [
    "B = 0.1\n",
    "M = 100.0\n",
    "d = 8\n",
    "W_train_spec = construct_ESVM_kernel(N_train)\n",
    "W_test_spec = construct_ESVM_kernel(N_test)\n",
    "Cur_pot = BananaShape(B,M,d)\n",
    "#sample for variance reduction\n",
    "seed = 777\n",
    "if method[\"sampler\"] == \"ULA\":\n",
    "    res = Generate_train(n_traj_train, method, Cur_pot, step, N_b, N_train, d)\n",
    "    res = np.asarray(res)\n",
    "    traj,traj_grad = res[:,0,:,:],res[:,1,:,:]\n",
    "else:\n",
    "    res = Generate_train(n_traj_train, method, Cur_pot, step, N_b, N_train, d)\n",
    "    traj = []\n",
    "    traj_grad = []\n",
    "    for i in range(len(res)):\n",
    "        traj.append(res[i][0])\n",
    "        traj_grad.append(res[i][1])\n",
    "        print(\"accepted = \",res[i][2])\n",
    "    traj = np.asarray(traj)\n",
    "    traj_grad = np.asarray(traj_grad)"
   ]
  },
  {
   "cell_type": "code",
   "execution_count": 7,
   "metadata": {},
   "outputs": [],
   "source": [
    "if (f_type == \"posterior_mean\"):\n",
    "    inds_arr = np.array([1]) # Taking the second index (not intercept)\n",
    "    params = None\n",
    "else:\n",
    "    params = {\"X\":X_test,\"Y\":Y_test}\n",
    "    inds_arr = np.array([0])\n",
    "    \n",
    "f_vals = set_function(f_type,traj,inds_arr,params)"
   ]
  },
  {
   "cell_type": "code",
   "execution_count": 8,
   "metadata": {},
   "outputs": [],
   "source": [
    "n_restarts = 2 # Number of restarts during optimization\n",
    "sigma = 1 # Deviation of starting points\n",
    "tol = 1e-5 # Tolerance (for the norm of gradient)"
   ]
  },
  {
   "cell_type": "code",
   "execution_count": 9,
   "metadata": {},
   "outputs": [
    {
     "name": "stdout",
     "output_type": "stream",
     "text": [
      "1 degree optimization terminated succesfully\n",
      "jacobian at termination: \n",
      "[-1.12237442e-06  2.93146090e-07  2.41353731e-06 -1.25102274e-06\n",
      "  1.10893656e-06  1.19123375e-07  1.16769172e-06  1.12158276e-06]\n",
      "1 degree optimization terminated succesfully\n",
      "jacobian at termination: \n",
      "[-9.22584586e-07  1.83273491e-07  2.14205695e-06 -9.28575591e-07\n",
      "  1.03130540e-06  2.32614580e-08  1.12937265e-06  1.28772376e-06]\n",
      "1 degree optimization terminated succesfully\n",
      "jacobian at termination: \n",
      "[-5.12596136e-06 -9.07153445e-07 -1.11736065e-06 -1.72287296e-07\n",
      "  3.71270448e-07  3.13400322e-06 -2.29391926e-06  9.54799443e-07]\n",
      "2 degree optimization terminated succesfully\n",
      "Jacobian matrix at termination: \n",
      "[-1.30264614e-07 -9.55575443e-08  2.92352262e-06  1.66033471e-06\n",
      "  1.18335666e-06 -1.57484204e-07  3.69106324e-06  5.72580654e-07\n",
      "  3.20518108e-06  4.79336438e-06  9.92220469e-07 -7.22578383e-07\n",
      "  1.15056003e-07 -3.53691884e-07 -3.45495775e-07 -3.72329534e-07\n",
      "  4.79336438e-06 -1.36392439e-06 -3.41169925e-07  1.56151497e-07\n",
      " -5.81980080e-08  1.00862058e-07  8.43681386e-08  2.28358285e-07\n",
      "  9.92220469e-07 -3.41169925e-07 -1.73912516e-06  1.22609154e-06\n",
      " -1.14404742e-06  5.80155864e-07  8.40785504e-07  1.58944385e-06\n",
      " -7.22578383e-07  1.56151497e-07  1.22609154e-06 -7.16987546e-07\n",
      " -2.78780545e-06  1.93156200e-07  1.29019024e-06 -8.54027873e-07\n",
      "  1.15056003e-07 -5.81980080e-08 -1.14404742e-06 -2.78780545e-06\n",
      " -7.72324659e-07 -9.67076653e-07 -1.82850293e-06  7.30239876e-07\n",
      " -3.53691884e-07  1.00862058e-07  5.80155864e-07  1.93156200e-07\n",
      " -9.67076653e-07  1.45026461e-06  4.76535142e-06 -2.31428081e-06\n",
      " -3.45495775e-07  8.43681386e-08  8.40785504e-07  1.29019024e-06\n",
      " -1.82850293e-06  4.76535142e-06  1.43300785e-06  1.63047487e-06\n",
      " -3.72329534e-07  2.28358285e-07  1.58944385e-06 -8.54027873e-07\n",
      "  7.30239876e-07 -2.31428081e-06  1.63047487e-06 -1.33428557e-06]\n",
      "2 degree optimization terminated succesfully\n",
      "Jacobian matrix at termination: \n",
      "[ 6.50588974e-08 -4.79472165e-08  2.64957959e-06  2.34391514e-06\n",
      "  9.91563813e-07 -3.42573248e-08  4.67592190e-06  8.96742972e-07\n",
      "  2.20600448e-06  3.31415977e-06 -6.82829033e-09 -3.88200819e-09\n",
      "  5.53962256e-08 -1.47917822e-08  1.97629960e-08  8.40758266e-09\n",
      "  3.31415977e-06 -1.00142820e-06 -1.00050839e-08 -7.41952260e-08\n",
      " -7.64351077e-08 -8.02690689e-08  6.95277783e-08  1.08650539e-08\n",
      " -6.82829033e-09 -1.00050839e-08  1.95613980e-06 -1.48970469e-06\n",
      "  1.77988491e-07 -3.75098861e-07 -2.16424452e-06  1.67522873e-06\n",
      " -3.88200819e-09 -7.41952260e-08 -1.48970469e-06  4.62448472e-07\n",
      "  2.55589296e-07  3.40658712e-07 -1.90041387e-07 -1.26205296e-06\n",
      "  5.53962256e-08 -7.64351077e-08  1.77988491e-07  2.55589296e-07\n",
      " -8.25440436e-07 -4.32284218e-07 -4.45683350e-07 -3.18100050e-07\n",
      " -1.47917822e-08 -8.02690689e-08 -3.75098861e-07  3.40658712e-07\n",
      " -4.32284218e-07  5.41382351e-07  1.07361539e-06 -4.48297166e-07\n",
      "  1.97629960e-08  6.95277783e-08 -2.16424452e-06 -1.90041387e-07\n",
      " -4.45683350e-07  1.07361539e-06 -2.04465332e-07 -1.57315565e-06\n",
      "  8.40758266e-09  1.08650539e-08  1.67522873e-06 -1.26205296e-06\n",
      " -3.18100050e-07 -4.48297166e-07 -1.57315565e-06  1.31921512e-06]\n",
      "2 degree optimization terminated succesfully\n",
      "Jacobian matrix at termination: \n",
      "[-8.03529518e-10 -5.42047416e-10  5.77933822e-10 -2.39464168e-12\n",
      "  1.81995728e-09 -2.00312074e-09 -7.78472488e-10  7.81225100e-10\n",
      "  5.65483993e-08  9.53827352e-08 -1.77853815e-09 -1.19772093e-10\n",
      " -9.14149879e-10  1.33339182e-10 -1.06596603e-09  3.11402019e-09\n",
      "  9.53827352e-08 -2.64701677e-08 -5.68767343e-09  2.02900519e-11\n",
      " -1.26487009e-09  2.58661211e-09 -9.77132734e-09  2.39802695e-09\n",
      " -1.77853815e-09 -5.68767343e-09  9.63492818e-10 -5.09749772e-10\n",
      " -1.99492081e-10 -3.76799096e-10  1.21095074e-09  1.19493527e-09\n",
      " -1.19772093e-10  2.02900519e-11 -5.09749772e-10  6.59233192e-10\n",
      " -5.99666497e-10 -3.52709266e-11 -4.57919709e-10 -4.39698812e-10\n",
      " -9.14149879e-10 -1.26487009e-09 -1.99492081e-10 -5.99666497e-10\n",
      "  1.88534619e-09 -4.54853419e-10  1.95303704e-10 -1.84913554e-09\n",
      "  1.33339182e-10  2.58661211e-09 -3.76799096e-10 -3.52709266e-11\n",
      " -4.54853419e-10 -1.16157549e-09 -8.75172060e-10  1.10894870e-09\n",
      " -1.06596603e-09 -9.77132734e-09  1.21095074e-09 -4.57919709e-10\n",
      "  1.95303704e-10 -8.75172060e-10  2.46794656e-09 -1.38092256e-09\n",
      "  3.11402019e-09  2.39802695e-09  1.19493527e-09 -4.39698812e-10\n",
      " -1.84913554e-09  1.10894870e-09 -1.38092256e-09 -2.01505354e-10]\n"
     ]
    }
   ],
   "source": [
    "A_ESVM_1,A_EVM_1,A_LS_1 = optimize_parallel_new(1,inds_arr,f_vals,traj,traj_grad,W_train_spec,n_restarts,tol,sigma)\n",
    "A_ESVM_2,A_EVM_2,A_LS_2 = optimize_parallel_new(2,inds_arr,f_vals,traj,traj_grad,W_train_spec,n_restarts,tol,sigma)"
   ]
  },
  {
   "cell_type": "markdown",
   "metadata": {},
   "source": [
    "## Coefficients for control variates"
   ]
  },
  {
   "cell_type": "code",
   "execution_count": 10,
   "metadata": {},
   "outputs": [
    {
     "name": "stdout",
     "output_type": "stream",
     "text": [
      "Coefficients for ESVM\n",
      "[[ 19.24552213 141.8190486    9.03502458   5.02560196  26.72846584\n",
      "    8.84398718 -31.56691807   9.69222956]]\n",
      "Coefficients for EVM\n",
      "[[-0.17343524  1.78429638  0.1069116   0.32554337  1.50932331  1.33421857\n",
      "  -1.80753475  0.57178606]]\n",
      "Coefficients for LS\n",
      "[[-0.20162728  1.99101141  0.11214539  0.40725771  1.78477273  1.49219982\n",
      "  -2.01216069  0.58160999]]\n"
     ]
    }
   ],
   "source": [
    "print(\"Coefficients for ESVM\")\n",
    "print(A_ESVM_1)\n",
    "print(\"Coefficients for EVM\")\n",
    "print(A_EVM_1)\n",
    "print(\"Coefficients for LS\")\n",
    "print(A_LS_1)"
   ]
  },
  {
   "cell_type": "code",
   "execution_count": 11,
   "metadata": {},
   "outputs": [
    {
     "name": "stdout",
     "output_type": "stream",
     "text": [
      "Coefficients for ESVM\n",
      "[[ 6.70939693e+00  2.02032790e+02  1.88875586e-01 -1.53578643e+00\n",
      "  -1.02715838e+00  2.52400445e+00 -3.62445333e+00  3.38124859e+00\n",
      "  -4.98120226e+00 -7.93202353e-03  1.73208414e-01  1.52443468e-01\n",
      "  -2.12797255e-02 -1.30319419e-01 -2.41599331e-01  2.06338145e-01\n",
      "  -7.93201667e-03 -1.01748805e+01 -6.55715771e-02 -4.09054390e-02\n",
      "   1.37017110e-02  7.89064986e-02  4.19098689e-02 -5.28825057e-02\n",
      "   1.73208337e-01 -6.55716000e-02 -1.07041612e+00  6.50994272e-01\n",
      "  -8.06218267e-01 -3.70210430e-01  8.23446653e-03  2.71969019e+00\n",
      "   1.52443458e-01 -4.09054409e-02  6.50994297e-01 -4.20357753e+00\n",
      "   1.38404359e+00  3.37583854e-01  4.99630914e-01  1.39753029e+00\n",
      "  -2.12797093e-02  1.37017026e-02 -8.06218097e-01  1.38404363e+00\n",
      "  -3.18050161e+00  1.68680439e+00 -3.50709223e-01 -1.02807098e+00\n",
      "  -1.30319380e-01  7.89065011e-02 -3.70210538e-01  3.37584210e-01\n",
      "   1.68680440e+00 -8.01834011e-01 -1.19322030e+00  1.10137280e+00\n",
      "  -2.41599261e-01  4.19098439e-02  8.23442217e-03  4.99631013e-01\n",
      "  -3.50709298e-01 -1.19322009e+00 -2.04634882e+00 -6.94088317e-01\n",
      "   2.06338201e-01 -5.28825672e-02  2.71969032e+00  1.39753012e+00\n",
      "  -1.02807084e+00  1.10137232e+00 -6.94088407e-01 -5.27878649e-01]]\n",
      "Coefficients for EVM\n",
      "[[ 1.05841031e-01  1.30286495e+02  6.63789507e-03 -4.00276851e-02\n",
      "  -2.00854661e-02 -7.26802413e-02 -2.35796536e-02  3.58575509e-02\n",
      "  -3.23033721e+00  2.55181896e-05  3.04836565e-02  1.47918220e-02\n",
      "  -8.46232916e-03 -1.36009308e-03 -3.77277810e-04  1.93619452e-02\n",
      "   2.55181694e-05 -6.45070779e+00 -1.54092323e-02 -6.55303590e-03\n",
      "  -1.05602309e-02  1.26786029e-03  1.19635177e-02 -1.36198209e-02\n",
      "   3.04836565e-02 -1.54092323e-02  4.05725736e-03 -2.71411385e-03\n",
      "  -1.68108888e-02 -7.79618101e-03 -3.19521939e-02  1.15382327e-01\n",
      "   1.47918221e-02 -6.55303588e-03 -2.71411385e-03  1.97380596e-02\n",
      "  -3.29023423e-03 -3.43648009e-02 -2.53272194e-02 -2.30199156e-02\n",
      "  -8.46232906e-03 -1.05602309e-02 -1.68108886e-02 -3.29023425e-03\n",
      "  -2.10485416e-02 -3.48209817e-02 -1.48405075e-02 -5.84138143e-02\n",
      "  -1.36009307e-03  1.26786027e-03 -7.79618096e-03 -3.43648010e-02\n",
      "  -3.48209816e-02  3.60665777e-02  2.02643996e-02 -4.79699819e-02\n",
      "  -3.77277815e-04  1.19635177e-02 -3.19521939e-02 -2.53272194e-02\n",
      "  -1.48405076e-02  2.02643996e-02 -6.28548616e-02  2.78248008e-02\n",
      "   1.93619452e-02 -1.36198209e-02  1.15382327e-01 -2.30199157e-02\n",
      "  -5.84138143e-02 -4.79699819e-02  2.78248008e-02 -4.18591014e-02]]\n",
      "Coefficients for LS\n",
      "[[ 1.14634031e-01  1.36370737e+02  1.46797847e-02 -2.17835129e-02\n",
      "  -6.19685476e-04 -7.53639829e-02 -1.74874525e-02  3.00416880e-02\n",
      "  -3.38167894e+00 -6.88489834e-05  3.21442453e-02  1.67480263e-02\n",
      "  -8.32552555e-03 -1.83159300e-03 -1.15091545e-03  1.96009952e-02\n",
      "  -6.88490742e-05 -6.75375159e+00 -1.58067452e-02 -7.02353975e-03\n",
      "  -1.11723763e-02  1.86249412e-03  1.24507862e-02 -1.34785233e-02\n",
      "   3.21442453e-02 -1.58067452e-02  2.10353220e-03 -4.76595763e-03\n",
      "  -2.17363868e-02 -1.04763005e-02 -3.06647541e-02  1.13850752e-01\n",
      "   1.67480262e-02 -7.02353974e-03 -4.76595764e-03  1.54534355e-02\n",
      "  -5.45504563e-03 -4.08495838e-02 -2.69695770e-02 -2.73420855e-02\n",
      "  -8.32552552e-03 -1.11723763e-02 -2.17363870e-02 -5.45504567e-03\n",
      "  -1.38989221e-02 -4.01664018e-02 -7.50162454e-03 -5.83494475e-02\n",
      "  -1.83159289e-03  1.86249407e-03 -1.04763004e-02 -4.08495837e-02\n",
      "  -4.01664017e-02  3.78637242e-02  2.42240290e-02 -4.91177749e-02\n",
      "  -1.15091543e-03  1.24507863e-02 -3.06647543e-02 -2.69695771e-02\n",
      "  -7.50162451e-03  2.42240291e-02 -6.43877059e-02  2.35852187e-02\n",
      "   1.96009952e-02 -1.34785233e-02  1.13850752e-01 -2.73420855e-02\n",
      "  -5.83494476e-02 -4.91177750e-02  2.35852188e-02 -4.78814245e-02]]\n"
     ]
    }
   ],
   "source": [
    "print(\"Coefficients for ESVM\")\n",
    "print(A_ESVM_2)\n",
    "print(\"Coefficients for EVM\")\n",
    "print(A_EVM_2)\n",
    "print(\"Coefficients for LS\")\n",
    "print(A_LS_2)"
   ]
  },
  {
   "cell_type": "markdown",
   "metadata": {},
   "source": [
    "### Test "
   ]
  },
  {
   "cell_type": "code",
   "execution_count": 12,
   "metadata": {},
   "outputs": [],
   "source": [
    "# Create a dictionary, put respective matrices into it\n",
    "CV_dict = {\"ZAV\":[A_ESVM_1,A_ESVM_2],\"ZV\":[A_EVM_1,A_EVM_2],\"LS\":[A_LS_1,A_LS_2]}\n",
    "# Number of cores exploited for the computation of the independent trajectories\n",
    "# by deault, all available cores on the machine\n",
    "nbcores = multiprocessing.cpu_count()\n",
    "trav = Pool(nbcores)\n",
    "res = trav.starmap(Run_eval_test, [(i,method,inds_arr,Cur_pot,W_test_spec,CV_dict,step,N_b,N_test,d,params,f_type) for i in range (n_traj_test)])\n",
    "trav.close()\n",
    "res_arr = np.asarray(res) # Saving results as np.array"
   ]
  },
  {
   "cell_type": "markdown",
   "metadata": {},
   "source": [
    "### Results"
   ]
  },
  {
   "cell_type": "code",
   "execution_count": 13,
   "metadata": {},
   "outputs": [
    {
     "name": "stdout",
     "output_type": "stream",
     "text": [
      "Estimators\n",
      "Vanilla MC [0.0079742]\n",
      "ESVM pol=1 [0.11735668]\n",
      "ESVM pol=2 [0.01630258]\n",
      "EVM pol=1 [0.00876785]\n",
      "EVM pol=2 [0.00368598]\n",
      "LS pol=1 [0.00876785]\n",
      "LS pol=2 [0.00368598]\n"
     ]
    }
   ],
   "source": [
    "print(\"Estimators\")\n",
    "print(\"Vanilla MC {}\".format(np.mean(res_arr[:,0,0,:],axis=0)))\n",
    "print(\"ESVM pol=1 {}\".format(np.mean(res_arr[:,0,1,:],axis=0)))\n",
    "print(\"ESVM pol=2 {}\".format(np.mean(res_arr[:,0,2,:],axis=0)))\n",
    "print(\"EVM pol=1 {}\".format(np.mean(res_arr[:,0,3,:],axis=0)))\n",
    "print(\"EVM pol=2 {}\".format(np.mean(res_arr[:,0,4,:],axis=0)))\n",
    "print(\"LS pol=1 {}\".format(np.mean(res_arr[:,0,3,:],axis=0)))\n",
    "print(\"LS pol=2 {}\".format(np.mean(res_arr[:,0,4,:],axis=0)))"
   ]
  },
  {
   "cell_type": "code",
   "execution_count": 14,
   "metadata": {},
   "outputs": [
    {
     "name": "stdout",
     "output_type": "stream",
     "text": [
      "Variances\n",
      "Vanilla MC [160049.60217384]\n",
      "ZAV pol=1 [337841.46710722]\n",
      "ZAV pol=2 [34858.99263774]\n",
      "ZV pol=1 [158802.30645042]\n",
      "ZV pol=2 [24581.32374285]\n",
      "LS pol=1 [158681.97621081]\n",
      "LS pol=2 [21788.83718072]\n"
     ]
    }
   ],
   "source": [
    "print(\"Variances\")\n",
    "print(\"Vanilla MC {}\".format(np.mean(res_arr[:,1,0,:],axis=0)))\n",
    "print(\"ZAV pol=1 {}\".format(np.mean(res_arr[:,1,1,:],axis=0)))\n",
    "print(\"ZAV pol=2 {}\".format(np.mean(res_arr[:,1,2,:],axis=0)))\n",
    "print(\"ZV pol=1 {}\".format(np.mean(res_arr[:,1,3,:],axis=0)))\n",
    "print(\"ZV pol=2 {}\".format(np.mean(res_arr[:,1,4,:],axis=0)))\n",
    "print(\"LS pol=1 {}\".format(np.mean(res_arr[:,1,5,:],axis=0)))\n",
    "print(\"LS pol=2 {}\".format(np.mean(res_arr[:,1,6,:],axis=0)))"
   ]
  },
  {
   "cell_type": "code",
   "execution_count": 17,
   "metadata": {},
   "outputs": [],
   "source": [
    "np.save(\"Results/05_07/Banana_MALA_bn_300_B_1e-1_d_8_traj_1_test_traj_100_gamma_2e-1_train_1e6_test_1e6.npy\",res_arr)"
   ]
  },
  {
   "cell_type": "markdown",
   "metadata": {},
   "source": [
    "### Plot results"
   ]
  },
  {
   "cell_type": "code",
   "execution_count": 24,
   "metadata": {},
   "outputs": [],
   "source": [
    "res_arr = np.load(\"Results/05_07/Banana_ULA_bn_300_B_1e-1_d_8_traj_1_test_traj_100_gamma_1e-2_train_1e6_test_1e6.npy\")"
   ]
  },
  {
   "cell_type": "code",
   "execution_count": 25,
   "metadata": {},
   "outputs": [],
   "source": [
    "var_ind = 0 # Index to plot\n",
    "title = \"\"\n",
    "labels = ['Vanilla\\nULA', 'ULA\\nwith EVM','ULA\\nwith ESVM']"
   ]
  },
  {
   "cell_type": "code",
   "execution_count": 26,
   "metadata": {},
   "outputs": [
    {
     "data": {
      "image/png": "[encoded data removed]",
      "text/plain": [
       "<Figure size 500x400 with 1 Axes>"
      ]
     },
     "metadata": {
      "needs_background": "light"
     },
     "output_type": "display_data"
    }
   ],
   "source": [
    "# Box plot\n",
    "data = [res_arr[:,0,0,var_ind],res_arr[:,0,4,var_ind],res_arr[:,0,2,var_ind]] \n",
    "boxplot_ind(data, title, labels)"
   ]
  },
  {
   "cell_type": "code",
   "execution_count": 27,
   "metadata": {},
   "outputs": [
    {
     "name": "stdout",
     "output_type": "stream",
     "text": [
      "average VRF for 1st order EVM: 1.0095666692059952\n",
      "average VRF for 2nd order EVM: 1.4394460413609838\n",
      "average VRF for 1st order ESVM: 1.0163615591919957\n",
      "average VRF for 2nd order ESVM: 4.804519396781161\n"
     ]
    }
   ],
   "source": [
    "vars_vanilla = res_arr[:,1,0,:]\n",
    "vars_esvm_1st = res_arr[:,1,1,:]\n",
    "vars_esvm_2nd = res_arr[:,1,2,:]\n",
    "vars_evm_1st = res_arr[:,1,3,:]\n",
    "vars_evm_2nd = res_arr[:,1,4,:]\n",
    "print(\"average VRF for 1st order EVM:\",np.mean(vars_vanilla/vars_evm_1st))\n",
    "print(\"average VRF for 2nd order EVM:\",np.mean(vars_vanilla/vars_evm_2nd))\n",
    "print(\"average VRF for 1st order ESVM:\",np.mean(vars_vanilla/vars_esvm_1st))\n",
    "print(\"average VRF for 2nd order ESVM:\",np.mean(vars_vanilla/vars_esvm_2nd))"
   ]
  },
  {
   "cell_type": "code",
   "execution_count": null,
   "metadata": {},
   "outputs": [],
   "source": []
  }
 ],
 "metadata": {
  "kernelspec": {
   "display_name": "Python 3",
   "language": "python",
   "name": "python3"
  },
  "language_info": {
   "codemirror_mode": {
    "name": "ipython",
    "version": 3
   },
   "file_extension": ".py",
   "mimetype": "text/x-python",
   "name": "python",
   "nbconvert_exporter": "python",
   "pygments_lexer": "ipython3",
   "version": "3.7.3"
  }
 },
 "nbformat": 4,
 "nbformat_minor": 2
}
